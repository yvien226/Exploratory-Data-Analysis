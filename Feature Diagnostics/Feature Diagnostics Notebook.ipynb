{
 "cells": [
  {
   "cell_type": "markdown",
   "id": "80b542c8",
   "metadata": {},
   "source": [
    "### Description:\n",
    "This notebook is used to evaluate the quality of the features, determining whether they are suitable for use in a machine learning algorithm or if it's necessary to seek alternative sources to obtain higher-quality data.\n",
    "\n",
    "Dataset used: https://www.kaggle.com/datasets/blastchar/telco-customer-churn"
   ]
  },
  {
   "cell_type": "markdown",
   "id": "d2d6b6a9",
   "metadata": {},
   "source": [
    "# 1. Set up:\n",
    "\n",
    "- a) Import libraries\n",
    "- b) Define features to assess and plot settings\n",
    "- c) Set up folder name"
   ]
  },
  {
   "cell_type": "markdown",
   "id": "9a84290b",
   "metadata": {},
   "source": [
    "#### a) Import libraries"
   ]
  },
  {
   "cell_type": "code",
   "execution_count": null,
   "id": "1ea4aaa1",
   "metadata": {},
   "outputs": [],
   "source": [
    "import os\n",
    "import pandas as pd\n",
    "import seaborn as sns\n",
    "import numpy as np\n",
    "import datetime\n",
    "from dateutil.parser import parse\n",
    "from code_fd.feature_value_calc import *\n",
    "from code_fd.graphing import *\n",
    "\n",
    "%matplotlib inline\n",
    "import matplotlib.pyplot as plt\n",
    "from matplotlib.backends.backend_pdf import PdfPages \n",
    "\n",
    "# ignore warnings\n",
    "import warnings\n",
    "warnings.filterwarnings('ignore')"
   ]
  },
  {
   "cell_type": "markdown",
   "id": "3cdfdf3e",
   "metadata": {},
   "source": [
    "#### b) Define features and plot settings"
   ]
  },
  {
   "cell_type": "code",
   "execution_count": null,
   "id": "a5347cc9",
   "metadata": {},
   "outputs": [],
   "source": [
    "# categorical features\n",
    "cat_feature_name_list = ['gender','Partner', 'SeniorCitizen', 'Dependents', 'PhoneService',\n",
    "                         'MultipleLines', 'InternetService', 'OnlineSecurity', 'OnlineBackup',\n",
    "                         'DeviceProtection', 'TechSupport', 'StreamingTV', 'Contract',\n",
    "                         'PaperlessBilling', 'PaymentMethod']\n",
    "\n",
    "# continuous features\n",
    "con_feature_name_list = ['tenure', 'MonthlyCharges', 'TotalCharges']\n",
    "\n",
    "# target feature\n",
    "# target feature value: the feature value for calculating proportion %\n",
    "target_feature = 'Churn'\n",
    "target_feature_name = 'churn'\n",
    "target_feature_value = 'Yes'\n",
    "\n",
    "# columne date in the feature table\n",
    "date_feature = 'temp_date'\n",
    "\n",
    "# plot: Y to rotate x axis values at 90 deg\n",
    "rotate_x_axis = 'Y'\n",
    "\n",
    "# plot: the y secondary axis title \n",
    "proportion_name = target_feature_name + ' proportion (%)'"
   ]
  },
  {
   "cell_type": "markdown",
   "id": "d9101abc",
   "metadata": {},
   "source": [
    "#### c) Set up output folder name"
   ]
  },
  {
   "cell_type": "code",
   "execution_count": null,
   "id": "16f086cc",
   "metadata": {},
   "outputs": [],
   "source": [
    "# today's date\n",
    "TODAY = datetime.datetime.now()\n",
    "DTFORMAT = '%Y%m%d'\n",
    "\n",
    "# name of the folder, excel file and pdfs\n",
    "folder_path = 'output_sample/telco_churn_feature_diagnostics'\n",
    "file_name = 'summary_table_' + TODAY.strftime(DTFORMAT)\n",
    "pdf_null_fn = 'plot_missing_value_' + TODAY.strftime(DTFORMAT)\n",
    "pdf_count_fn = 'plot_feature_value_count_and_' + target_feature_name + '_proportion_' + TODAY.strftime(DTFORMAT)\n",
    "pdf_count_month_fn = 'plot_feature_value_count_by_month_' + TODAY.strftime(DTFORMAT)"
   ]
  },
  {
   "cell_type": "code",
   "execution_count": null,
   "id": "5e11f903",
   "metadata": {},
   "outputs": [],
   "source": [
    "# create new folder\n",
    "check_folder = os.path.isdir(folder_path)\n",
    "\n",
    "if not check_folder:\n",
    "    os.mkdir(folder_path)"
   ]
  },
  {
   "cell_type": "markdown",
   "id": "884882c9",
   "metadata": {},
   "source": [
    "# 2. Read data set:\n",
    "\n",
    "- a) Import dataset\n",
    "- b) Data preparation"
   ]
  },
  {
   "cell_type": "markdown",
   "id": "f8d7f3cb",
   "metadata": {},
   "source": [
    "#### a) Import data set"
   ]
  },
  {
   "cell_type": "code",
   "execution_count": null,
   "id": "345bcdfd",
   "metadata": {},
   "outputs": [],
   "source": [
    "df = pd.read_csv(\"WA_Fn-UseC_-Telco-Customer-Churn.csv\")\n",
    "\n",
    "# assuming churn rate recorded on 2023-12-31\n",
    "df['temp_date'] = datetime.datetime(2023, 12, 31)"
   ]
  },
  {
   "cell_type": "markdown",
   "id": "0f287e31",
   "metadata": {},
   "source": [
    "#### b) Data preparation"
   ]
  },
  {
   "cell_type": "code",
   "execution_count": null,
   "id": "1f2964d9",
   "metadata": {},
   "outputs": [],
   "source": [
    "# add month year into the data\n",
    "df['monthyear'] = df[date_feature].dt.year.astype(str) + df[date_feature].dt.month.map(\"{:02}\".format).astype(str)\n",
    "\n",
    "# replace null target feature to NA\n",
    "df[target_feature] = df[target_feature].fillna('NA')\n",
    "\n",
    "# convert target feature to string\n",
    "df[target_feature] = df[target_feature].astype(str)\n",
    "\n",
    "# convert categorical features to string \n",
    "df[cat_feature_name_list] = df[cat_feature_name_list].astype(str)\n",
    "df[cat_feature_name_list] = df[cat_feature_name_list].replace('nan', np.nan)\n",
    "df[cat_feature_name_list] = df[cat_feature_name_list].replace('None', np.nan)\n",
    "\n",
    "# convert continuous features to float\n",
    "df[con_feature_name_list] = df[con_feature_name_list].replace(r'^\\s*$', np.nan , regex=True)\n",
    "df[con_feature_name_list] = df[con_feature_name_list].astype(float)\n",
    "\n",
    "# shape\n",
    "tot_row, tot_col = df.shape"
   ]
  },
  {
   "cell_type": "markdown",
   "id": "8bcba492",
   "metadata": {},
   "source": [
    "# 3. Data Quality assessment\n",
    "\n",
    "- a) Summary statistics \n",
    "- b) Feature count (by monthyear and target feature)\n",
    "- c) Missing value count"
   ]
  },
  {
   "cell_type": "markdown",
   "id": "61e9254b",
   "metadata": {},
   "source": [
    "#### a) Summary statistics "
   ]
  },
  {
   "cell_type": "code",
   "execution_count": null,
   "id": "e68bdb4b",
   "metadata": {},
   "outputs": [],
   "source": [
    "# concatenate list of feature\n",
    "feature_name_list = cat_feature_name_list + con_feature_name_list"
   ]
  },
  {
   "cell_type": "code",
   "execution_count": null,
   "id": "8b9826ef",
   "metadata": {},
   "outputs": [],
   "source": [
    "# get summary stats for target feature, categorical and continuous features\n",
    "target_ds = get_summary_statistics('Target', [target_feature], df)\n",
    "cat_ds = get_summary_statistics('Categorical', cat_feature_name_list, df)\n",
    "con_ds = get_summary_statistics('Continuous', con_feature_name_list, df)"
   ]
  },
  {
   "cell_type": "markdown",
   "id": "1785b0e3",
   "metadata": {},
   "source": [
    "#### b) Feature count"
   ]
  },
  {
   "cell_type": "code",
   "execution_count": null,
   "id": "6d9736c2",
   "metadata": {
    "scrolled": true
   },
   "outputs": [],
   "source": [
    "# count by feature value, target feature, and monthyear\n",
    "cat_feature_value_df = get_feature_value_count_categorical(cat_feature_name_list, df, target_feature)\n",
    "con_feature_value_df = get_feature_value_count_continuous(con_feature_name_list, df, target_feature)\n",
    "\n",
    "# count by feature value only\n",
    "cat_df_feature_count = count_by_feature_value(cat_feature_value_df, '', '')\n",
    "con_df_feature_count = count_by_feature_value(con_feature_value_df, '', '')\n",
    "\n",
    "# count by feature value and monthyear\n",
    "cat_df_feature_month_count = count_by_feature_value(cat_feature_value_df, 'monthyear', '')\n",
    "con_df_feature_month_count = count_by_feature_value(con_feature_value_df, 'monthyear', '')\n",
    "target_feature_month_count = count_target_by_month(df, target_feature)\n",
    "\n",
    "# [Continuous only] Median value by month\n",
    "con_df_median_month = get_median_value_continuous_feature(con_feature_name_list, df)\n",
    "\n",
    "# Count by feature value and target feature\n",
    "cat_df_feature_target_count = count_by_feature_value_target_feature(cat_feature_value_df, target_feature)\n",
    "con_df_feature_target_count = count_by_feature_value_target_feature(con_feature_value_df, target_feature)"
   ]
  },
  {
   "cell_type": "markdown",
   "id": "3728fc16",
   "metadata": {},
   "source": [
    "#### c) Missing value count"
   ]
  },
  {
   "cell_type": "code",
   "execution_count": null,
   "id": "208fc8d6",
   "metadata": {},
   "outputs": [],
   "source": [
    "# count null values by feature name, feature value, month for target, categorical and continuous features\n",
    "cat_df_feature_month_nulls_count = count_by_month_missing_values(cat_df_feature_month_count, 'NA')\n",
    "con_df_feature_month_nulls_count = count_by_month_missing_values(con_df_feature_month_count, 'NA')\n",
    "target_feature_month_nulls_count = count_by_month_missing_values(target_feature_month_count, 'NA')"
   ]
  },
  {
   "cell_type": "markdown",
   "id": "6445a937",
   "metadata": {},
   "source": [
    "# 4. Graphing\n",
    "\n",
    "- a) Plot missing values\n",
    "- b) Plot feature value and target feature value proportion\n",
    "- c) Plot feature count plot"
   ]
  },
  {
   "cell_type": "markdown",
   "id": "dc9cf675",
   "metadata": {},
   "source": [
    "#### a) Plot missing values"
   ]
  },
  {
   "cell_type": "code",
   "execution_count": null,
   "id": "6d6c1b0e",
   "metadata": {},
   "outputs": [],
   "source": [
    "# create pdf pages\n",
    "pp = PdfPages(folder_path + '/' + pdf_null_fn + '.pdf')"
   ]
  },
  {
   "cell_type": "code",
   "execution_count": null,
   "id": "3d96a86a",
   "metadata": {},
   "outputs": [],
   "source": [
    "# sort by month and year\n",
    "cat_df_feature_month_nulls_count = cat_df_feature_month_nulls_count.sort_values(by='monthyear', ascending=True, ignore_index=True)\n",
    "con_df_feature_month_nulls_count = con_df_feature_month_nulls_count.sort_values(by='monthyear', ascending=True, ignore_index=True)\n",
    "target_feature_month_nulls_count = target_feature_month_nulls_count.sort_values(by='monthyear', ascending=True, ignore_index=True)\n",
    "\n",
    "# append missing values count\n",
    "df_nulls_count = pd.concat([cat_df_feature_month_nulls_count, con_df_feature_month_nulls_count], ignore_index=True)\n",
    "\n",
    "# plot missing values by monthyear\n",
    "plot_null_by_month(feature_name_list, df_nulls_count, rotate_x_axis, pp)\n",
    "plot_target_feature_null_by_month(target_feature_month_nulls_count, target_feature, rotate_x_axis, pp)\n",
    "\n",
    "# close pdf\n",
    "pp.close()"
   ]
  },
  {
   "cell_type": "markdown",
   "id": "f9c628c6",
   "metadata": {},
   "source": [
    "#### b) Plot Feature value and target feature "
   ]
  },
  {
   "cell_type": "code",
   "execution_count": null,
   "id": "63bd328a",
   "metadata": {},
   "outputs": [],
   "source": [
    "# create pdf pages\n",
    "pp = PdfPages(folder_path + '/' + pdf_count_fn + '.pdf')"
   ]
  },
  {
   "cell_type": "code",
   "execution_count": null,
   "id": "78d94b54",
   "metadata": {},
   "outputs": [],
   "source": [
    "# append count\n",
    "df_feature_count = pd.concat([cat_df_feature_count, con_df_feature_count], ignore_index=True)\n",
    "\n",
    "# append count by feature value and target feature proportion\n",
    "df_feature_target_count = pd.concat([cat_df_feature_target_count, con_df_feature_target_count], ignore_index=True)\n",
    "df_feature_target_count_proportion = df_feature_target_count[df_feature_target_count[target_feature] == target_feature_value]\n",
    "df_feature_target_count_proportion.rename(columns={'proportion (%)': proportion_name}, inplace=True)\n",
    "\n",
    "# ensure feature value is string\n",
    "df_feature_target_count_proportion['feature value'] = df_feature_target_count_proportion['feature value'].astype(str)\n",
    "\n",
    "# plot bar chart of count by feature value with proportion as secondary axis\n",
    "plot_count_by_feature_value(feature_name_list, df_feature_count, df_feature_target_count_proportion, proportion_name, rotate_x_axis, pp)\n",
    "\n",
    "# close pdf\n",
    "pp.close()"
   ]
  },
  {
   "cell_type": "markdown",
   "id": "e67abe81",
   "metadata": {},
   "source": [
    "#### c) Plot feature count"
   ]
  },
  {
   "cell_type": "code",
   "execution_count": null,
   "id": "f91d043c",
   "metadata": {},
   "outputs": [],
   "source": [
    "# create pdf pages\n",
    "pp = PdfPages(folder_path + '/' + pdf_count_month_fn + '.pdf')"
   ]
  },
  {
   "cell_type": "code",
   "execution_count": null,
   "id": "da0e3b1f",
   "metadata": {},
   "outputs": [],
   "source": [
    "# sort by monthyear\n",
    "cat_df_feature_month_count = cat_df_feature_month_count.sort_values(by='monthyear', ascending=True, ignore_index=True) \n",
    "con_df_feature_month_count = con_df_feature_month_count.sort_values(by='monthyear', ascending=True, ignore_index=True) \n",
    "con_df_median_month = con_df_median_month.sort_values(by='monthyear', ascending=True, ignore_index=True) \n",
    "\n",
    "# append\n",
    "df_feature_month_count = pd.concat([cat_df_feature_month_count, con_df_feature_month_count], ignore_index=True)\n",
    "\n",
    "# remove missing values \n",
    "cat_df_feature_month_count_noNA = cat_df_feature_month_count[cat_df_feature_month_count['feature value'] != 'NA']\n",
    "cat_df_feature_name_list_noNA = list(cat_df_feature_month_count_noNA['feature name'].unique())\n",
    "\n",
    "# [Categorical] plot count of feature values by monthyear\n",
    "# [Continuous] plot median against monthyear\n",
    "plot_time_series_feature_values(cat_df_feature_name_list_noNA, cat_df_feature_month_count_noNA, pp)\n",
    "plot_time_series_median(con_feature_name_list, con_df_median_month, pp)\n",
    "\n",
    "# close pdf\n",
    "pp.close()"
   ]
  },
  {
   "cell_type": "markdown",
   "id": "68433708",
   "metadata": {},
   "source": [
    "# 5. Export results "
   ]
  },
  {
   "cell_type": "code",
   "execution_count": null,
   "id": "33e354f3",
   "metadata": {},
   "outputs": [],
   "source": [
    "# file name\n",
    "file_name_excel = file_name + '.xlsx'\n",
    "\n",
    "# summary stats\n",
    "sum_stats_tbl = pd.concat([target_ds, cat_ds, con_ds], ignore_index=True)\n",
    "\n",
    "# include target feature missing values count by month\n",
    "df_nulls_count = pd.concat([df_nulls_count, target_feature_month_nulls_count], ignore_index=True)"
   ]
  },
  {
   "cell_type": "code",
   "execution_count": null,
   "id": "7915db69",
   "metadata": {},
   "outputs": [],
   "source": [
    "# write summary tables into excel\n",
    "writer = pd.ExcelWriter(folder_path + '/' + file_name_excel, engine='xlsxwriter')\n",
    "sum_stats_tbl.to_excel(writer, sheet_name='Summary_Stats', index=False)\n",
    "df_feature_count.to_excel(writer, sheet_name='Count by feature value', index=False)\n",
    "df_feature_month_count.to_excel(writer, sheet_name='Count by feature value_month', index=False)\n",
    "df_feature_target_count.to_excel(writer, sheet_name='Count by feature value_target', index=False)\n",
    "df_nulls_count.to_excel(writer, sheet_name='Null by month', index=False)\n",
    "writer.close()"
   ]
  },
  {
   "cell_type": "code",
   "execution_count": null,
   "id": "590aae0c",
   "metadata": {},
   "outputs": [],
   "source": []
  }
 ],
 "metadata": {
  "kernelspec": {
   "display_name": "Python 3",
   "language": "python",
   "name": "python3"
  },
  "language_info": {
   "codemirror_mode": {
    "name": "ipython",
    "version": 3
   },
   "file_extension": ".py",
   "mimetype": "text/x-python",
   "name": "python",
   "nbconvert_exporter": "python",
   "pygments_lexer": "ipython3",
   "version": "3.9.7"
  }
 },
 "nbformat": 4,
 "nbformat_minor": 5
}
